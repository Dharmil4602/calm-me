{
 "cells": [
  {
   "cell_type": "code",
   "execution_count": 26,
   "metadata": {},
   "outputs": [],
   "source": [
    "import numpy as np\n",
    "import pandas as pd\n",
    "import tensorflow as tf\n",
    "import seaborn as sns\n",
    "import matplotlib.pyplot as plt\n",
    "from sklearn.preprocessing import StandardScaler\n",
    "from sklearn.preprocessing import LabelEncoder\n",
    "from sklearn.preprocessing import MinMaxScaler\n",
    "from sklearn.model_selection import train_test_split\n",
    "from models.models import svm_model, logistic_regression_model, random_forest_model, lstm_model, load_model"
   ]
  },
  {
   "cell_type": "code",
   "execution_count": 3,
   "metadata": {},
   "outputs": [],
   "source": [
    "dataset = pd.read_csv('data/hrv_dataset.csv')"
   ]
  },
  {
   "cell_type": "code",
   "execution_count": 4,
   "metadata": {},
   "outputs": [
    {
     "data": {
      "text/html": [
       "<div>\n",
       "<style scoped>\n",
       "    .dataframe tbody tr th:only-of-type {\n",
       "        vertical-align: middle;\n",
       "    }\n",
       "\n",
       "    .dataframe tbody tr th {\n",
       "        vertical-align: top;\n",
       "    }\n",
       "\n",
       "    .dataframe thead th {\n",
       "        text-align: right;\n",
       "    }\n",
       "</style>\n",
       "<table border=\"1\" class=\"dataframe\">\n",
       "  <thead>\n",
       "    <tr style=\"text-align: right;\">\n",
       "      <th></th>\n",
       "      <th>Age</th>\n",
       "      <th>Gender</th>\n",
       "      <th>Height</th>\n",
       "      <th>Weight</th>\n",
       "      <th>BMI</th>\n",
       "      <th>BF%</th>\n",
       "      <th>Visceral fat</th>\n",
       "      <th>RHR</th>\n",
       "      <th>Test_time</th>\n",
       "      <th>Hrmax</th>\n",
       "      <th>...</th>\n",
       "      <th>HF_H</th>\n",
       "      <th>LF_HF_Ratio_H</th>\n",
       "      <th>Total power_H</th>\n",
       "      <th>SDNN_P</th>\n",
       "      <th>RMSSD_p</th>\n",
       "      <th>Pnn50_P</th>\n",
       "      <th>LF_P</th>\n",
       "      <th>HF_P</th>\n",
       "      <th>LF_HF_Ratio_P</th>\n",
       "      <th>Total power_P</th>\n",
       "    </tr>\n",
       "  </thead>\n",
       "  <tbody>\n",
       "    <tr>\n",
       "      <th>0</th>\n",
       "      <td>20</td>\n",
       "      <td>1</td>\n",
       "      <td>174.0</td>\n",
       "      <td>79.9</td>\n",
       "      <td>26.4</td>\n",
       "      <td>22.2</td>\n",
       "      <td>5</td>\n",
       "      <td>72</td>\n",
       "      <td>11.50</td>\n",
       "      <td>191</td>\n",
       "      <td>...</td>\n",
       "      <td>393.5</td>\n",
       "      <td>1.130</td>\n",
       "      <td>1938.0</td>\n",
       "      <td>34.30</td>\n",
       "      <td>25.47</td>\n",
       "      <td>3.74</td>\n",
       "      <td>431.1</td>\n",
       "      <td>408.1</td>\n",
       "      <td>1.05</td>\n",
       "      <td>1548.0</td>\n",
       "    </tr>\n",
       "    <tr>\n",
       "      <th>1</th>\n",
       "      <td>20</td>\n",
       "      <td>2</td>\n",
       "      <td>156.0</td>\n",
       "      <td>63.9</td>\n",
       "      <td>26.3</td>\n",
       "      <td>33.0</td>\n",
       "      <td>3</td>\n",
       "      <td>73</td>\n",
       "      <td>10.25</td>\n",
       "      <td>194</td>\n",
       "      <td>...</td>\n",
       "      <td>807.1</td>\n",
       "      <td>0.289</td>\n",
       "      <td>1791.0</td>\n",
       "      <td>33.68</td>\n",
       "      <td>40.88</td>\n",
       "      <td>26.02</td>\n",
       "      <td>117.6</td>\n",
       "      <td>919.1</td>\n",
       "      <td>0.12</td>\n",
       "      <td>1184.0</td>\n",
       "    </tr>\n",
       "    <tr>\n",
       "      <th>2</th>\n",
       "      <td>21</td>\n",
       "      <td>2</td>\n",
       "      <td>156.0</td>\n",
       "      <td>67.1</td>\n",
       "      <td>27.6</td>\n",
       "      <td>32.1</td>\n",
       "      <td>3</td>\n",
       "      <td>81</td>\n",
       "      <td>9.25</td>\n",
       "      <td>183</td>\n",
       "      <td>...</td>\n",
       "      <td>1171.0</td>\n",
       "      <td>0.510</td>\n",
       "      <td>2808.0</td>\n",
       "      <td>50.13</td>\n",
       "      <td>52.81</td>\n",
       "      <td>25.81</td>\n",
       "      <td>2376.0</td>\n",
       "      <td>5538.0</td>\n",
       "      <td>0.43</td>\n",
       "      <td>9817.0</td>\n",
       "    </tr>\n",
       "    <tr>\n",
       "      <th>3</th>\n",
       "      <td>24</td>\n",
       "      <td>1</td>\n",
       "      <td>169.0</td>\n",
       "      <td>75.5</td>\n",
       "      <td>26.4</td>\n",
       "      <td>23.5</td>\n",
       "      <td>6</td>\n",
       "      <td>69</td>\n",
       "      <td>12.50</td>\n",
       "      <td>185</td>\n",
       "      <td>...</td>\n",
       "      <td>259.2</td>\n",
       "      <td>0.930</td>\n",
       "      <td>906.2</td>\n",
       "      <td>31.08</td>\n",
       "      <td>29.22</td>\n",
       "      <td>8.54</td>\n",
       "      <td>288.7</td>\n",
       "      <td>528.0</td>\n",
       "      <td>0.54</td>\n",
       "      <td>965.4</td>\n",
       "    </tr>\n",
       "    <tr>\n",
       "      <th>4</th>\n",
       "      <td>23</td>\n",
       "      <td>1</td>\n",
       "      <td>169.0</td>\n",
       "      <td>81.0</td>\n",
       "      <td>28.4</td>\n",
       "      <td>24.1</td>\n",
       "      <td>7</td>\n",
       "      <td>72</td>\n",
       "      <td>12.10</td>\n",
       "      <td>186</td>\n",
       "      <td>...</td>\n",
       "      <td>398.0</td>\n",
       "      <td>1.090</td>\n",
       "      <td>1963.0</td>\n",
       "      <td>26.44</td>\n",
       "      <td>28.97</td>\n",
       "      <td>8.98</td>\n",
       "      <td>468.1</td>\n",
       "      <td>1785.0</td>\n",
       "      <td>0.26</td>\n",
       "      <td>2656.0</td>\n",
       "    </tr>\n",
       "  </tbody>\n",
       "</table>\n",
       "<p>5 rows × 25 columns</p>\n",
       "</div>"
      ],
      "text/plain": [
       "   Age  Gender  Height  Weight   BMI   BF%  Visceral fat  RHR  Test_time  \\\n",
       "0   20       1   174.0    79.9  26.4  22.2             5   72      11.50   \n",
       "1   20       2   156.0    63.9  26.3  33.0             3   73      10.25   \n",
       "2   21       2   156.0    67.1  27.6  32.1             3   81       9.25   \n",
       "3   24       1   169.0    75.5  26.4  23.5             6   69      12.50   \n",
       "4   23       1   169.0    81.0  28.4  24.1             7   72      12.10   \n",
       "\n",
       "   Hrmax  ...    HF_H  LF_HF_Ratio_H  Total power_H  SDNN_P  RMSSD_p  Pnn50_P  \\\n",
       "0    191  ...   393.5          1.130         1938.0   34.30    25.47     3.74   \n",
       "1    194  ...   807.1          0.289         1791.0   33.68    40.88    26.02   \n",
       "2    183  ...  1171.0          0.510         2808.0   50.13    52.81    25.81   \n",
       "3    185  ...   259.2          0.930          906.2   31.08    29.22     8.54   \n",
       "4    186  ...   398.0          1.090         1963.0   26.44    28.97     8.98   \n",
       "\n",
       "     LF_P    HF_P  LF_HF_Ratio_P  Total power_P  \n",
       "0   431.1   408.1           1.05         1548.0  \n",
       "1   117.6   919.1           0.12         1184.0  \n",
       "2  2376.0  5538.0           0.43         9817.0  \n",
       "3   288.7   528.0           0.54          965.4  \n",
       "4   468.1  1785.0           0.26         2656.0  \n",
       "\n",
       "[5 rows x 25 columns]"
      ]
     },
     "execution_count": 4,
     "metadata": {},
     "output_type": "execute_result"
    }
   ],
   "source": [
    "dataset.head()"
   ]
  },
  {
   "cell_type": "code",
   "execution_count": 5,
   "metadata": {},
   "outputs": [],
   "source": [
    "hrv_data = dataset[['Age', 'Gender', 'SDNN_P']]"
   ]
  },
  {
   "cell_type": "code",
   "execution_count": 6,
   "metadata": {},
   "outputs": [
    {
     "data": {
      "text/html": [
       "<div>\n",
       "<style scoped>\n",
       "    .dataframe tbody tr th:only-of-type {\n",
       "        vertical-align: middle;\n",
       "    }\n",
       "\n",
       "    .dataframe tbody tr th {\n",
       "        vertical-align: top;\n",
       "    }\n",
       "\n",
       "    .dataframe thead th {\n",
       "        text-align: right;\n",
       "    }\n",
       "</style>\n",
       "<table border=\"1\" class=\"dataframe\">\n",
       "  <thead>\n",
       "    <tr style=\"text-align: right;\">\n",
       "      <th></th>\n",
       "      <th>Age</th>\n",
       "      <th>Gender</th>\n",
       "      <th>SDNN_P</th>\n",
       "    </tr>\n",
       "  </thead>\n",
       "  <tbody>\n",
       "    <tr>\n",
       "      <th>0</th>\n",
       "      <td>20</td>\n",
       "      <td>1</td>\n",
       "      <td>34.30</td>\n",
       "    </tr>\n",
       "    <tr>\n",
       "      <th>1</th>\n",
       "      <td>20</td>\n",
       "      <td>2</td>\n",
       "      <td>33.68</td>\n",
       "    </tr>\n",
       "    <tr>\n",
       "      <th>2</th>\n",
       "      <td>21</td>\n",
       "      <td>2</td>\n",
       "      <td>50.13</td>\n",
       "    </tr>\n",
       "    <tr>\n",
       "      <th>3</th>\n",
       "      <td>24</td>\n",
       "      <td>1</td>\n",
       "      <td>31.08</td>\n",
       "    </tr>\n",
       "    <tr>\n",
       "      <th>4</th>\n",
       "      <td>23</td>\n",
       "      <td>1</td>\n",
       "      <td>26.44</td>\n",
       "    </tr>\n",
       "  </tbody>\n",
       "</table>\n",
       "</div>"
      ],
      "text/plain": [
       "   Age  Gender  SDNN_P\n",
       "0   20       1   34.30\n",
       "1   20       2   33.68\n",
       "2   21       2   50.13\n",
       "3   24       1   31.08\n",
       "4   23       1   26.44"
      ]
     },
     "execution_count": 6,
     "metadata": {},
     "output_type": "execute_result"
    }
   ],
   "source": [
    "hrv_data.head()"
   ]
  },
  {
   "cell_type": "code",
   "execution_count": 7,
   "metadata": {},
   "outputs": [],
   "source": [
    "hrv_dataframe = pd.DataFrame(hrv_data)"
   ]
  },
  {
   "cell_type": "code",
   "execution_count": 8,
   "metadata": {},
   "outputs": [],
   "source": [
    "def assign_stress_label(age, gender, sdnn):\n",
    "    if age >= 18 and age <= 24:\n",
    "        if sdnn > 50:\n",
    "            return \"Stress\"\n",
    "        elif 35 < sdnn <= 50:\n",
    "            return \"Mild Stress\"\n",
    "        else:\n",
    "            return \"No Stress\"\n",
    "    elif age >= 25 and age <= 34:\n",
    "        if sdnn > 60:\n",
    "            return \"Stress\"\n",
    "        elif 45 < sdnn <= 60:\n",
    "            return \"Mild Stress\"\n",
    "        else:\n",
    "            return \"No Stress\"\n",
    "    elif age >= 35 and age <= 44:\n",
    "        if sdnn > 40:\n",
    "            return \"Stress\"\n",
    "        elif 30 < sdnn <= 40:\n",
    "            return \"Mild Stress\"\n",
    "        else:\n",
    "            return \"No Stress\"\n",
    "    # if age >= 18 and age <= 24:\n",
    "    #     if sdnn > 50:\n",
    "    #         return \"No Stress\"\n",
    "    #     elif 35 < sdnn <= 50:\n",
    "    #         return \"Mild Stress\"\n",
    "    #     else:\n",
    "    #         return \"Stress\"\n",
    "    # elif age >= 25 and age <= 34:\n",
    "    #     if sdnn > 60:\n",
    "    #         return \"No Stress\"\n",
    "    #     elif 45 < sdnn <= 60:\n",
    "    #         return \"Mild Stress\"\n",
    "    #     else:\n",
    "    #         return \"Stress\"\n",
    "    # elif age >= 35 and age <= 44:\n",
    "    #     if sdnn > 40:\n",
    "    #         return \"No Stress\"\n",
    "    #     elif 30 < sdnn <= 40:\n",
    "    #         return \"Mild Stress\"\n",
    "    #     else:\n",
    "    #         return \"Stress\""
   ]
  },
  {
   "cell_type": "code",
   "execution_count": 9,
   "metadata": {},
   "outputs": [],
   "source": [
    "hrv_dataframe['Stress_Level'] = hrv_dataframe.apply(lambda row: assign_stress_label(row['Age'], row['Gender'], row['SDNN_P']), axis=1)"
   ]
  },
  {
   "cell_type": "code",
   "execution_count": 10,
   "metadata": {},
   "outputs": [
    {
     "data": {
      "text/html": [
       "<div>\n",
       "<style scoped>\n",
       "    .dataframe tbody tr th:only-of-type {\n",
       "        vertical-align: middle;\n",
       "    }\n",
       "\n",
       "    .dataframe tbody tr th {\n",
       "        vertical-align: top;\n",
       "    }\n",
       "\n",
       "    .dataframe thead th {\n",
       "        text-align: right;\n",
       "    }\n",
       "</style>\n",
       "<table border=\"1\" class=\"dataframe\">\n",
       "  <thead>\n",
       "    <tr style=\"text-align: right;\">\n",
       "      <th></th>\n",
       "      <th>Age</th>\n",
       "      <th>Gender</th>\n",
       "      <th>SDNN_P</th>\n",
       "      <th>Stress_Level</th>\n",
       "    </tr>\n",
       "  </thead>\n",
       "  <tbody>\n",
       "    <tr>\n",
       "      <th>0</th>\n",
       "      <td>20</td>\n",
       "      <td>1</td>\n",
       "      <td>34.30</td>\n",
       "      <td>No Stress</td>\n",
       "    </tr>\n",
       "    <tr>\n",
       "      <th>1</th>\n",
       "      <td>20</td>\n",
       "      <td>2</td>\n",
       "      <td>33.68</td>\n",
       "      <td>No Stress</td>\n",
       "    </tr>\n",
       "    <tr>\n",
       "      <th>2</th>\n",
       "      <td>21</td>\n",
       "      <td>2</td>\n",
       "      <td>50.13</td>\n",
       "      <td>Stress</td>\n",
       "    </tr>\n",
       "    <tr>\n",
       "      <th>3</th>\n",
       "      <td>24</td>\n",
       "      <td>1</td>\n",
       "      <td>31.08</td>\n",
       "      <td>No Stress</td>\n",
       "    </tr>\n",
       "    <tr>\n",
       "      <th>4</th>\n",
       "      <td>23</td>\n",
       "      <td>1</td>\n",
       "      <td>26.44</td>\n",
       "      <td>No Stress</td>\n",
       "    </tr>\n",
       "  </tbody>\n",
       "</table>\n",
       "</div>"
      ],
      "text/plain": [
       "   Age  Gender  SDNN_P Stress_Level\n",
       "0   20       1   34.30    No Stress\n",
       "1   20       2   33.68    No Stress\n",
       "2   21       2   50.13       Stress\n",
       "3   24       1   31.08    No Stress\n",
       "4   23       1   26.44    No Stress"
      ]
     },
     "execution_count": 10,
     "metadata": {},
     "output_type": "execute_result"
    }
   ],
   "source": [
    "hrv_dataframe.head()"
   ]
  },
  {
   "cell_type": "code",
   "execution_count": 11,
   "metadata": {},
   "outputs": [
    {
     "data": {
      "text/plain": [
       "Stress_Level\n",
       "Stress         22\n",
       "No Stress       7\n",
       "Mild Stress     6\n",
       "dtype: int64"
      ]
     },
     "execution_count": 11,
     "metadata": {},
     "output_type": "execute_result"
    }
   ],
   "source": [
    "hrv_dataframe.value_counts('Stress_Level')"
   ]
  },
  {
   "cell_type": "markdown",
   "metadata": {},
   "source": [
    "Encoding Stress Levels"
   ]
  },
  {
   "cell_type": "code",
   "execution_count": 12,
   "metadata": {},
   "outputs": [],
   "source": [
    "label_encoder = LabelEncoder()"
   ]
  },
  {
   "cell_type": "code",
   "execution_count": 13,
   "metadata": {},
   "outputs": [],
   "source": [
    "hrv_dataframe['Stress_Level'] = label_encoder.fit_transform(hrv_data['Stress_Level'])"
   ]
  },
  {
   "cell_type": "code",
   "execution_count": 14,
   "metadata": {},
   "outputs": [
    {
     "name": "stdout",
     "output_type": "stream",
     "text": [
      "2    22\n",
      "1     7\n",
      "0     6\n",
      "Name: Stress_Level, dtype: int64\n"
     ]
    }
   ],
   "source": [
    "print(hrv_dataframe['Stress_Level'].value_counts())"
   ]
  },
  {
   "cell_type": "markdown",
   "metadata": {},
   "source": [
    "Standardizing the Data"
   ]
  },
  {
   "cell_type": "code",
   "execution_count": 15,
   "metadata": {},
   "outputs": [],
   "source": [
    "standard_scaler = StandardScaler()"
   ]
  },
  {
   "cell_type": "code",
   "execution_count": 16,
   "metadata": {},
   "outputs": [],
   "source": [
    "standardized_hrv_data = standard_scaler.fit_transform(hrv_dataframe)"
   ]
  },
  {
   "cell_type": "code",
   "execution_count": 17,
   "metadata": {},
   "outputs": [
    {
     "data": {
      "text/plain": [
       "array([[-0.60507186, -1.15470054, -1.12884144, -0.59463532],\n",
       "       [-0.60507186,  0.8660254 , -1.16352829, -0.59463532],\n",
       "       [-0.41254899,  0.8660254 , -0.24320762,  0.70612944],\n",
       "       [ 0.1650196 , -1.15470054, -1.30898931, -0.59463532],\n",
       "       [-0.02750327, -1.15470054, -1.56858128, -0.59463532],\n",
       "       [-0.22002613,  0.8660254 , -0.46811274, -1.89540007],\n",
       "       [-0.41254899,  0.8660254 , -0.16040674,  0.70612944],\n",
       "       [ 2.09024823, -1.15470054, -1.19765569, -0.59463532],\n",
       "       [-0.60507186,  0.8660254 ,  0.92551571,  0.70612944],\n",
       "       [-0.60507186,  0.8660254 ,  1.78149785,  0.70612944],\n",
       "       [-0.41254899,  0.8660254 , -1.75208595, -0.59463532],\n",
       "       [-0.79759472, -1.15470054,  0.2194703 ,  0.70612944],\n",
       "       [-0.41254899,  0.8660254 , -0.29411898, -1.89540007],\n",
       "       [-0.60507186, -1.15470054,  0.98985423,  0.70612944],\n",
       "       [-0.41254899,  0.8660254 ,  1.18566714,  0.70612944],\n",
       "       [-0.22002613,  0.8660254 ,  0.69949166,  0.70612944],\n",
       "       [-0.60507186, -1.15470054,  0.81921727,  0.70612944],\n",
       "       [-0.02750327, -1.15470054,  0.10142309,  0.70612944],\n",
       "       [-0.41254899,  0.8660254 ,  0.15457231,  0.70612944],\n",
       "       [ 0.55006532,  0.8660254 , -1.33248686, -0.59463532],\n",
       "       [-0.22002613, -1.15470054,  0.3929046 ,  0.70612944],\n",
       "       [-0.22002613, -1.15470054,  2.00696243,  0.70612944],\n",
       "       [-0.41254899,  0.8660254 , -0.77134301, -1.89540007],\n",
       "       [-0.41254899,  0.8660254 , -0.53860538, -1.89540007],\n",
       "       [-0.22002613,  0.8660254 ,  1.55659274,  0.70612944],\n",
       "       [-0.41254899,  0.8660254 , -0.49776441, -1.89540007],\n",
       "       [-0.02750327, -1.15470054,  0.45500526,  0.70612944],\n",
       "       [-0.60507186, -1.15470054,  0.74816516,  0.70612944],\n",
       "       [ 3.05286255, -1.15470054, -0.93638532, -1.89540007],\n",
       "       [ 2.86033969, -1.15470054, -0.77581874,  0.70612944],\n",
       "       [-0.02750327,  0.8660254 ,  1.5896012 ,  0.70612944],\n",
       "       [-0.41254899,  0.8660254 ,  0.15792911,  0.70612944],\n",
       "       [-0.41254899,  0.8660254 ,  0.51710593,  0.70612944],\n",
       "       [-0.60507186, -1.15470054,  0.64410458,  0.70612944],\n",
       "       [ 2.66781682,  0.8660254 , -0.8071488 ,  0.70612944]])"
      ]
     },
     "execution_count": 17,
     "metadata": {},
     "output_type": "execute_result"
    }
   ],
   "source": [
    "standardized_hrv_data"
   ]
  },
  {
   "cell_type": "markdown",
   "metadata": {},
   "source": [
    "Converting into dataframe"
   ]
  },
  {
   "cell_type": "code",
   "execution_count": 18,
   "metadata": {},
   "outputs": [],
   "source": [
    "dataframe = pd.DataFrame(standardized_hrv_data, columns=['Age', 'Gender', 'SDNN_P', 'Stress_Level'])"
   ]
  },
  {
   "cell_type": "code",
   "execution_count": 19,
   "metadata": {},
   "outputs": [
    {
     "data": {
      "text/html": [
       "<div>\n",
       "<style scoped>\n",
       "    .dataframe tbody tr th:only-of-type {\n",
       "        vertical-align: middle;\n",
       "    }\n",
       "\n",
       "    .dataframe tbody tr th {\n",
       "        vertical-align: top;\n",
       "    }\n",
       "\n",
       "    .dataframe thead th {\n",
       "        text-align: right;\n",
       "    }\n",
       "</style>\n",
       "<table border=\"1\" class=\"dataframe\">\n",
       "  <thead>\n",
       "    <tr style=\"text-align: right;\">\n",
       "      <th></th>\n",
       "      <th>Age</th>\n",
       "      <th>Gender</th>\n",
       "      <th>SDNN_P</th>\n",
       "      <th>Stress_Level</th>\n",
       "    </tr>\n",
       "  </thead>\n",
       "  <tbody>\n",
       "    <tr>\n",
       "      <th>0</th>\n",
       "      <td>-0.605072</td>\n",
       "      <td>-1.154701</td>\n",
       "      <td>-1.128841</td>\n",
       "      <td>-0.594635</td>\n",
       "    </tr>\n",
       "    <tr>\n",
       "      <th>1</th>\n",
       "      <td>-0.605072</td>\n",
       "      <td>0.866025</td>\n",
       "      <td>-1.163528</td>\n",
       "      <td>-0.594635</td>\n",
       "    </tr>\n",
       "    <tr>\n",
       "      <th>2</th>\n",
       "      <td>-0.412549</td>\n",
       "      <td>0.866025</td>\n",
       "      <td>-0.243208</td>\n",
       "      <td>0.706129</td>\n",
       "    </tr>\n",
       "    <tr>\n",
       "      <th>3</th>\n",
       "      <td>0.165020</td>\n",
       "      <td>-1.154701</td>\n",
       "      <td>-1.308989</td>\n",
       "      <td>-0.594635</td>\n",
       "    </tr>\n",
       "    <tr>\n",
       "      <th>4</th>\n",
       "      <td>-0.027503</td>\n",
       "      <td>-1.154701</td>\n",
       "      <td>-1.568581</td>\n",
       "      <td>-0.594635</td>\n",
       "    </tr>\n",
       "  </tbody>\n",
       "</table>\n",
       "</div>"
      ],
      "text/plain": [
       "        Age    Gender    SDNN_P  Stress_Level\n",
       "0 -0.605072 -1.154701 -1.128841     -0.594635\n",
       "1 -0.605072  0.866025 -1.163528     -0.594635\n",
       "2 -0.412549  0.866025 -0.243208      0.706129\n",
       "3  0.165020 -1.154701 -1.308989     -0.594635\n",
       "4 -0.027503 -1.154701 -1.568581     -0.594635"
      ]
     },
     "execution_count": 19,
     "metadata": {},
     "output_type": "execute_result"
    }
   ],
   "source": [
    "dataframe.head()"
   ]
  },
  {
   "cell_type": "markdown",
   "metadata": {},
   "source": [
    "Finding Correlation"
   ]
  },
  {
   "cell_type": "code",
   "execution_count": 20,
   "metadata": {},
   "outputs": [],
   "source": [
    "correlation_matrix = dataframe.corr()"
   ]
  },
  {
   "cell_type": "code",
   "execution_count": 21,
   "metadata": {},
   "outputs": [
    {
     "name": "stdout",
     "output_type": "stream",
     "text": [
      "                   Age    Gender    SDNN_P  Stress_Level\n",
      "Age           1.000000 -0.220718 -0.373106     -0.130835\n",
      "Gender       -0.220718  1.000000  0.031129     -0.160928\n",
      "SDNN_P       -0.373106  0.031129  1.000000      0.611911\n",
      "Stress_Level -0.130835 -0.160928  0.611911      1.000000\n"
     ]
    }
   ],
   "source": [
    "print(correlation_matrix)"
   ]
  },
  {
   "cell_type": "code",
   "execution_count": 22,
   "metadata": {},
   "outputs": [
    {
     "data": {
      "image/png": "[encoded data removed]",
      "text/plain": [
       "<Figure size 720x432 with 2 Axes>"
      ]
     },
     "metadata": {
      "needs_background": "light"
     },
     "output_type": "display_data"
    }
   ],
   "source": [
    "plt.figure(figsize=(10, 6))\n",
    "sns.heatmap(correlation_matrix, annot=True, cmap=\"coolwarm\", linewidths=0.5)\n",
    "plt.title('Correlation Matrix')\n",
    "plt.show()"
   ]
  },
  {
   "cell_type": "markdown",
   "metadata": {},
   "source": [
    "## Seperating Data labels for training\n"
   ]
  },
  {
   "cell_type": "code",
   "execution_count": 23,
   "metadata": {},
   "outputs": [],
   "source": [
    "X = dataframe[['Age', 'Gender', 'SDNN_P']]\n",
    "Y = dataframe['Stress_Level']"
   ]
  },
  {
   "cell_type": "markdown",
   "metadata": {},
   "source": [
    "Train Test Split"
   ]
  },
  {
   "cell_type": "code",
   "execution_count": 24,
   "metadata": {},
   "outputs": [],
   "source": [
    "X_train, X_test, Y_train, Y_test = train_test_split(X, Y, test_size=0.3, stratify=Y, random_state=42)"
   ]
  },
  {
   "cell_type": "code",
   "execution_count": 25,
   "metadata": {},
   "outputs": [],
   "source": [
    "training_data =  X_train, Y_train"
   ]
  },
  {
   "cell_type": "code",
   "execution_count": 30,
   "metadata": {},
   "outputs": [
    {
     "ename": "TypeError",
     "evalue": "svm_model() takes 1 positional argument but 2 were given",
     "output_type": "error",
     "traceback": [
      "\u001b[1;31m---------------------------------------------------------------------------\u001b[0m",
      "\u001b[1;31mTypeError\u001b[0m                                 Traceback (most recent call last)",
      "\u001b[1;32m~\\AppData\\Local\\Temp/ipykernel_11392/3305504219.py\u001b[0m in \u001b[0;36m<module>\u001b[1;34m\u001b[0m\n\u001b[1;32m----> 1\u001b[1;33m \u001b[0msvm_model\u001b[0m\u001b[1;33m(\u001b[0m\u001b[0mX_train\u001b[0m\u001b[1;33m,\u001b[0m \u001b[0mY_train\u001b[0m\u001b[1;33m)\u001b[0m\u001b[1;33m\u001b[0m\u001b[1;33m\u001b[0m\u001b[0m\n\u001b[0m\u001b[0;32m      2\u001b[0m \u001b[0mlogistic_regression_model\u001b[0m\u001b[1;33m(\u001b[0m\u001b[0mX_train\u001b[0m\u001b[1;33m,\u001b[0m \u001b[0mY_train\u001b[0m\u001b[1;33m)\u001b[0m\u001b[1;33m\u001b[0m\u001b[1;33m\u001b[0m\u001b[0m\n\u001b[0;32m      3\u001b[0m \u001b[0mrandom_forest_model\u001b[0m\u001b[1;33m(\u001b[0m\u001b[0mX_train\u001b[0m\u001b[1;33m,\u001b[0m \u001b[0mY_train\u001b[0m\u001b[1;33m)\u001b[0m\u001b[1;33m\u001b[0m\u001b[1;33m\u001b[0m\u001b[0m\n\u001b[0;32m      4\u001b[0m \u001b[0mlstm_model\u001b[0m\u001b[1;33m(\u001b[0m\u001b[0mX_train\u001b[0m\u001b[1;33m,\u001b[0m \u001b[0mY_train\u001b[0m\u001b[1;33m)\u001b[0m\u001b[1;33m\u001b[0m\u001b[1;33m\u001b[0m\u001b[0m\n",
      "\u001b[1;31mTypeError\u001b[0m: svm_model() takes 1 positional argument but 2 were given"
     ]
    }
   ],
   "source": [
    "svm_model(X_train, Y_train)\n",
    "logistic_regression_model(X_train, Y_train)\n",
    "random_forest_model(X_train, Y_train)\n",
    "lstm_model(X_train, Y_train)"
   ]
  },
  {
   "cell_type": "code",
   "execution_count": null,
   "metadata": {},
   "outputs": [],
   "source": []
  }
 ],
 "metadata": {
  "kernelspec": {
   "display_name": "Python 3",
   "language": "python",
   "name": "python3"
  },
  "language_info": {
   "codemirror_mode": {
    "name": "ipython",
    "version": 3
   },
   "file_extension": ".py",
   "mimetype": "text/x-python",
   "name": "python",
   "nbconvert_exporter": "python",
   "pygments_lexer": "ipython3",
   "version": "3.10.2"
  }
 },
 "nbformat": 4,
 "nbformat_minor": 2
}
